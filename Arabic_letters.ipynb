{
  "cells": [
    {
      "cell_type": "markdown",
      "metadata": {
        "id": "view-in-github",
        "colab_type": "text"
      },
      "source": [
        "<a href=\"https://colab.research.google.com/github/anassbelkas/Arabic_letters/blob/main/Arabic_letters.ipynb\" target=\"_parent\"><img src=\"https://colab.research.google.com/assets/colab-badge.svg\" alt=\"Open In Colab\"/></a>"
      ]
    },
    {
      "cell_type": "code",
      "execution_count": null,
      "metadata": {
        "id": "p1k-G5Wr4C3l"
      },
      "outputs": [],
      "source": [
        "#Load other modules\n",
        "import numpy as np\n",
        "import pandas as pd\n",
        "import matplotlib.pyplot as plt  #Graphics\n",
        "import seaborn as sns\n",
        "from sklearn.impute import SimpleImputer\n",
        "from sklearn.preprocessing import StandardScaler\n",
        "from sklearn.ensemble import RandomForestClassifier  #Random Forest algorithm\n",
        "from sklearn.model_selection import train_test_split\n",
        "from sklearn.metrics import accuracy_score, classification_report, confusion_matrix\n",
        "from sklearn.model_selection import cross_val_score"
      ]
    },
    {
      "cell_type": "code",
      "execution_count": null,
      "metadata": {
        "id": "2mCPcLJBOKVU"
      },
      "outputs": [],
      "source": [
        "# Load the data into a pandas data frame\n",
        "data = pd.read_csv(\"mnist-arabic.csv\")\n",
        "\n",
        "# Shuffle the rows\n",
        "data = data.sample(frac=1)\n",
        "\n",
        "# Split the data into a training set and a test set\n",
        "train, test = train_test_split(data, test_size=0.25)"
      ]
    },
    {
      "cell_type": "code",
      "execution_count": null,
      "metadata": {
        "colab": {
          "base_uri": "https://localhost:8080/"
        },
        "id": "M3yYilY5QbNd",
        "outputId": "dadcdade-44f6-4940-8721-ed7b32331e0d"
      },
      "outputs": [
        {
          "name": "stdout",
          "output_type": "stream",
          "text": [
            "Training dataset a 5544 observations et 785 variables\n",
            "Testing dataset a 1848 observations et 785 variables\n"
          ]
        }
      ],
      "source": [
        "#Printing the size of the dataframe\n",
        "print (\"Training dataset a %i observations et %i variables\" %(train.shape[0], train.shape[1]))\n",
        "print (\"Testing dataset a %i observations et %i variables\" %(test.shape[0], test.shape[1]))"
      ]
    },
    {
      "cell_type": "code",
      "execution_count": null,
      "metadata": {
        "colab": {
          "base_uri": "https://localhost:8080/",
          "height": 235
        },
        "id": "3C0knDbOQc1v",
        "outputId": "b2e889da-5f5f-472d-f6ba-e5126b14d4d0"
      },
      "outputs": [
        {
          "data": {
            "text/html": [
              "\n",
              "  <div id=\"df-14c75a02-af6f-4ff2-8cc7-85bd9c799271\">\n",
              "    <div class=\"colab-df-container\">\n",
              "      <div>\n",
              "<style scoped>\n",
              "    .dataframe tbody tr th:only-of-type {\n",
              "        vertical-align: middle;\n",
              "    }\n",
              "\n",
              "    .dataframe tbody tr th {\n",
              "        vertical-align: top;\n",
              "    }\n",
              "\n",
              "    .dataframe thead th {\n",
              "        text-align: right;\n",
              "    }\n",
              "</style>\n",
              "<table border=\"1\" class=\"dataframe\">\n",
              "  <thead>\n",
              "    <tr style=\"text-align: right;\">\n",
              "      <th></th>\n",
              "      <th>label</th>\n",
              "      <th>1x1</th>\n",
              "      <th>1x2</th>\n",
              "      <th>1x3</th>\n",
              "      <th>1x4</th>\n",
              "      <th>1x5</th>\n",
              "      <th>1x6</th>\n",
              "      <th>1x7</th>\n",
              "      <th>1x8</th>\n",
              "      <th>1x9</th>\n",
              "      <th>...</th>\n",
              "      <th>28x19</th>\n",
              "      <th>28x20</th>\n",
              "      <th>28x21</th>\n",
              "      <th>28x22</th>\n",
              "      <th>28x23</th>\n",
              "      <th>28x24</th>\n",
              "      <th>28x25</th>\n",
              "      <th>28x26</th>\n",
              "      <th>28x27</th>\n",
              "      <th>28x28</th>\n",
              "    </tr>\n",
              "  </thead>\n",
              "  <tbody>\n",
              "    <tr>\n",
              "      <th>2065</th>\n",
              "      <td>dal</td>\n",
              "      <td>0</td>\n",
              "      <td>0</td>\n",
              "      <td>0</td>\n",
              "      <td>0</td>\n",
              "      <td>0</td>\n",
              "      <td>0</td>\n",
              "      <td>0</td>\n",
              "      <td>0</td>\n",
              "      <td>0</td>\n",
              "      <td>...</td>\n",
              "      <td>0</td>\n",
              "      <td>0</td>\n",
              "      <td>0</td>\n",
              "      <td>0</td>\n",
              "      <td>0</td>\n",
              "      <td>0</td>\n",
              "      <td>0</td>\n",
              "      <td>0</td>\n",
              "      <td>0</td>\n",
              "      <td>0</td>\n",
              "    </tr>\n",
              "    <tr>\n",
              "      <th>2969</th>\n",
              "      <td>hhae_middle</td>\n",
              "      <td>0</td>\n",
              "      <td>0</td>\n",
              "      <td>0</td>\n",
              "      <td>0</td>\n",
              "      <td>0</td>\n",
              "      <td>0</td>\n",
              "      <td>0</td>\n",
              "      <td>0</td>\n",
              "      <td>0</td>\n",
              "      <td>...</td>\n",
              "      <td>0</td>\n",
              "      <td>0</td>\n",
              "      <td>0</td>\n",
              "      <td>0</td>\n",
              "      <td>0</td>\n",
              "      <td>0</td>\n",
              "      <td>0</td>\n",
              "      <td>0</td>\n",
              "      <td>0</td>\n",
              "      <td>0</td>\n",
              "    </tr>\n",
              "    <tr>\n",
              "      <th>6435</th>\n",
              "      <td>waw</td>\n",
              "      <td>0</td>\n",
              "      <td>0</td>\n",
              "      <td>0</td>\n",
              "      <td>0</td>\n",
              "      <td>0</td>\n",
              "      <td>0</td>\n",
              "      <td>0</td>\n",
              "      <td>0</td>\n",
              "      <td>0</td>\n",
              "      <td>...</td>\n",
              "      <td>0</td>\n",
              "      <td>0</td>\n",
              "      <td>0</td>\n",
              "      <td>0</td>\n",
              "      <td>0</td>\n",
              "      <td>0</td>\n",
              "      <td>0</td>\n",
              "      <td>0</td>\n",
              "      <td>0</td>\n",
              "      <td>0</td>\n",
              "    </tr>\n",
              "    <tr>\n",
              "      <th>6728</th>\n",
              "      <td>waw_end</td>\n",
              "      <td>0</td>\n",
              "      <td>0</td>\n",
              "      <td>0</td>\n",
              "      <td>0</td>\n",
              "      <td>0</td>\n",
              "      <td>0</td>\n",
              "      <td>0</td>\n",
              "      <td>0</td>\n",
              "      <td>0</td>\n",
              "      <td>...</td>\n",
              "      <td>0</td>\n",
              "      <td>0</td>\n",
              "      <td>0</td>\n",
              "      <td>0</td>\n",
              "      <td>0</td>\n",
              "      <td>0</td>\n",
              "      <td>0</td>\n",
              "      <td>0</td>\n",
              "      <td>0</td>\n",
              "      <td>0</td>\n",
              "    </tr>\n",
              "    <tr>\n",
              "      <th>1581</th>\n",
              "      <td>alif_end</td>\n",
              "      <td>0</td>\n",
              "      <td>0</td>\n",
              "      <td>0</td>\n",
              "      <td>0</td>\n",
              "      <td>0</td>\n",
              "      <td>0</td>\n",
              "      <td>0</td>\n",
              "      <td>0</td>\n",
              "      <td>0</td>\n",
              "      <td>...</td>\n",
              "      <td>0</td>\n",
              "      <td>0</td>\n",
              "      <td>0</td>\n",
              "      <td>0</td>\n",
              "      <td>0</td>\n",
              "      <td>0</td>\n",
              "      <td>0</td>\n",
              "      <td>0</td>\n",
              "      <td>0</td>\n",
              "      <td>0</td>\n",
              "    </tr>\n",
              "  </tbody>\n",
              "</table>\n",
              "<p>5 rows × 785 columns</p>\n",
              "</div>\n",
              "      <button class=\"colab-df-convert\" onclick=\"convertToInteractive('df-14c75a02-af6f-4ff2-8cc7-85bd9c799271')\"\n",
              "              title=\"Convert this dataframe to an interactive table.\"\n",
              "              style=\"display:none;\">\n",
              "        \n",
              "  <svg xmlns=\"http://www.w3.org/2000/svg\" height=\"24px\"viewBox=\"0 0 24 24\"\n",
              "       width=\"24px\">\n",
              "    <path d=\"M0 0h24v24H0V0z\" fill=\"none\"/>\n",
              "    <path d=\"M18.56 5.44l.94 2.06.94-2.06 2.06-.94-2.06-.94-.94-2.06-.94 2.06-2.06.94zm-11 1L8.5 8.5l.94-2.06 2.06-.94-2.06-.94L8.5 2.5l-.94 2.06-2.06.94zm10 10l.94 2.06.94-2.06 2.06-.94-2.06-.94-.94-2.06-.94 2.06-2.06.94z\"/><path d=\"M17.41 7.96l-1.37-1.37c-.4-.4-.92-.59-1.43-.59-.52 0-1.04.2-1.43.59L10.3 9.45l-7.72 7.72c-.78.78-.78 2.05 0 2.83L4 21.41c.39.39.9.59 1.41.59.51 0 1.02-.2 1.41-.59l7.78-7.78 2.81-2.81c.8-.78.8-2.07 0-2.86zM5.41 20L4 18.59l7.72-7.72 1.47 1.35L5.41 20z\"/>\n",
              "  </svg>\n",
              "      </button>\n",
              "      \n",
              "  <style>\n",
              "    .colab-df-container {\n",
              "      display:flex;\n",
              "      flex-wrap:wrap;\n",
              "      gap: 12px;\n",
              "    }\n",
              "\n",
              "    .colab-df-convert {\n",
              "      background-color: #E8F0FE;\n",
              "      border: none;\n",
              "      border-radius: 50%;\n",
              "      cursor: pointer;\n",
              "      display: none;\n",
              "      fill: #1967D2;\n",
              "      height: 32px;\n",
              "      padding: 0 0 0 0;\n",
              "      width: 32px;\n",
              "    }\n",
              "\n",
              "    .colab-df-convert:hover {\n",
              "      background-color: #E2EBFA;\n",
              "      box-shadow: 0px 1px 2px rgba(60, 64, 67, 0.3), 0px 1px 3px 1px rgba(60, 64, 67, 0.15);\n",
              "      fill: #174EA6;\n",
              "    }\n",
              "\n",
              "    [theme=dark] .colab-df-convert {\n",
              "      background-color: #3B4455;\n",
              "      fill: #D2E3FC;\n",
              "    }\n",
              "\n",
              "    [theme=dark] .colab-df-convert:hover {\n",
              "      background-color: #434B5C;\n",
              "      box-shadow: 0px 1px 3px 1px rgba(0, 0, 0, 0.15);\n",
              "      filter: drop-shadow(0px 1px 2px rgba(0, 0, 0, 0.3));\n",
              "      fill: #FFFFFF;\n",
              "    }\n",
              "  </style>\n",
              "\n",
              "      <script>\n",
              "        const buttonEl =\n",
              "          document.querySelector('#df-14c75a02-af6f-4ff2-8cc7-85bd9c799271 button.colab-df-convert');\n",
              "        buttonEl.style.display =\n",
              "          google.colab.kernel.accessAllowed ? 'block' : 'none';\n",
              "\n",
              "        async function convertToInteractive(key) {\n",
              "          const element = document.querySelector('#df-14c75a02-af6f-4ff2-8cc7-85bd9c799271');\n",
              "          const dataTable =\n",
              "            await google.colab.kernel.invokeFunction('convertToInteractive',\n",
              "                                                     [key], {});\n",
              "          if (!dataTable) return;\n",
              "\n",
              "          const docLinkHtml = 'Like what you see? Visit the ' +\n",
              "            '<a target=\"_blank\" href=https://colab.research.google.com/notebooks/data_table.ipynb>data table notebook</a>'\n",
              "            + ' to learn more about interactive tables.';\n",
              "          element.innerHTML = '';\n",
              "          dataTable['output_type'] = 'display_data';\n",
              "          await google.colab.output.renderOutput(dataTable, element);\n",
              "          const docLink = document.createElement('div');\n",
              "          docLink.innerHTML = docLinkHtml;\n",
              "          element.appendChild(docLink);\n",
              "        }\n",
              "      </script>\n",
              "    </div>\n",
              "  </div>\n",
              "  "
            ],
            "text/plain": [
              "            label  1x1  1x2  1x3  1x4  1x5  1x6  1x7  1x8  1x9  ...  28x19  \\\n",
              "2065          dal    0    0    0    0    0    0    0    0    0  ...      0   \n",
              "2969  hhae_middle    0    0    0    0    0    0    0    0    0  ...      0   \n",
              "6435          waw    0    0    0    0    0    0    0    0    0  ...      0   \n",
              "6728      waw_end    0    0    0    0    0    0    0    0    0  ...      0   \n",
              "1581     alif_end    0    0    0    0    0    0    0    0    0  ...      0   \n",
              "\n",
              "      28x20  28x21  28x22  28x23  28x24  28x25  28x26  28x27  28x28  \n",
              "2065      0      0      0      0      0      0      0      0      0  \n",
              "2969      0      0      0      0      0      0      0      0      0  \n",
              "6435      0      0      0      0      0      0      0      0      0  \n",
              "6728      0      0      0      0      0      0      0      0      0  \n",
              "1581      0      0      0      0      0      0      0      0      0  \n",
              "\n",
              "[5 rows x 785 columns]"
            ]
          },
          "execution_count": 46,
          "metadata": {},
          "output_type": "execute_result"
        }
      ],
      "source": [
        "#check few rows\n",
        "train.head()"
      ]
    },
    {
      "cell_type": "code",
      "execution_count": null,
      "metadata": {
        "id": "a3Bdd2mZQlgA"
      },
      "outputs": [],
      "source": [
        "#Seperate the target and independant variables\n",
        "X_train=train.iloc[:,1:]\n",
        "y_train=train.iloc[:,0]\n",
        "\n",
        "X_test = test.iloc[:,1:]\n",
        "y_test = test.iloc[:,0]"
      ]
    },
    {
      "cell_type": "code",
      "execution_count": null,
      "metadata": {
        "id": "AAXA_ZDHQpD6"
      },
      "outputs": [],
      "source": [
        "def print_image(row, df):\n",
        "    temp=df.iloc[row,:].values\n",
        "    temp = temp.reshape(28,28).astype('uint8')\n",
        "    plt.imshow(temp)"
      ]
    },
    {
      "cell_type": "code",
      "execution_count": null,
      "metadata": {
        "colab": {
          "base_uri": "https://localhost:8080/",
          "height": 265
        },
        "id": "Z506xzbKQwBL",
        "outputId": "259a20fc-2835-42c4-bcbd-8b67fd0ff38c"
      },
      "outputs": [
        {
          "data": {
            "image/png": "[encoded data removed]",
            "text/plain": [
              "<Figure size 432x288 with 1 Axes>"
            ]
          },
          "metadata": {
            "needs_background": "light"
          },
          "output_type": "display_data"
        }
      ],
      "source": [
        "print_image(0, X_train)"
      ]
    },
    {
      "cell_type": "code",
      "execution_count": null,
      "metadata": {
        "colab": {
          "base_uri": "https://localhost:8080/"
        },
        "id": "nuTB_vsMRA0f",
        "outputId": "a87efb84-25bb-40e4-cc43-a872670033fb"
      },
      "outputs": [
        {
          "data": {
            "text/plain": [
              "ain            16\n",
              "ain_end        19\n",
              "ain_middle     59\n",
              "ain_start      78\n",
              "alif          588\n",
              "             ... \n",
              "yae_end       150\n",
              "yae_middle    241\n",
              "yae_start      71\n",
              "zae            17\n",
              "zae_end        17\n",
              "Name: label, Length: 61, dtype: int64"
            ]
          },
          "execution_count": 50,
          "metadata": {},
          "output_type": "execute_result"
        }
      ],
      "source": [
        "#Check the frequency of each letter\n",
        "y_train.value_counts().sort_index()"
      ]
    },
    {
      "cell_type": "code",
      "execution_count": null,
      "metadata": {
        "colab": {
          "base_uri": "https://localhost:8080/",
          "height": 352
        },
        "id": "KISo2iDJRIm2",
        "outputId": "feb301c0-6322-44d4-a4d2-c7e30bfea525"
      },
      "outputs": [
        {
          "name": "stderr",
          "output_type": "stream",
          "text": [
            "/usr/local/lib/python3.8/dist-packages/seaborn/_decorators.py:36: FutureWarning: Pass the following variable as a keyword arg: x. From version 0.12, the only valid positional argument will be `data`, and passing other arguments without an explicit keyword will result in an error or misinterpretation.\n",
            "  warnings.warn(\n"
          ]
        },
        {
          "data": {
            "text/plain": [
              "<matplotlib.axes._subplots.AxesSubplot at 0x7fa43e9e0100>"
            ]
          },
          "execution_count": 51,
          "metadata": {},
          "output_type": "execute_result"
        },
        {
          "data": {
            "image/png": "[encoded data removed]",
            "text/plain": [
              "<Figure size 432x288 with 1 Axes>"
            ]
          },
          "metadata": {
            "needs_background": "light"
          },
          "output_type": "display_data"
        }
      ],
      "source": [
        "sns.countplot(y_train)"
      ]
    },
    {
      "cell_type": "code",
      "execution_count": null,
      "metadata": {
        "colab": {
          "base_uri": "https://localhost:8080/",
          "height": 591
        },
        "id": "WtRLKE_zRNIt",
        "outputId": "7cd6c598-abec-4890-8858-69a090463458"
      },
      "outputs": [
        {
          "data": {
            "image/png": "[encoded data removed]",
            "text/plain": [
              "<Figure size 864x720 with 20 Axes>"
            ]
          },
          "metadata": {
            "needs_background": "light"
          },
          "output_type": "display_data"
        }
      ],
      "source": [
        "plt.figure(figsize=(12,10))\n",
        "for i in range(20):\n",
        "    plt.subplot(4, 5, i+1)\n",
        "    print_image(i, X_train)"
      ]
    },
    {
      "cell_type": "code",
      "execution_count": null,
      "metadata": {
        "colab": {
          "base_uri": "https://localhost:8080/",
          "height": 591
        },
        "id": "Uo0252gWRc8_",
        "outputId": "0bce4885-2af5-4e25-d9fb-a9a6f560c9ab"
      },
      "outputs": [
        {
          "data": {
            "image/png": "[encoded data removed]",
            "text/plain": [
              "<Figure size 864x720 with 20 Axes>"
            ]
          },
          "metadata": {
            "needs_background": "light"
          },
          "output_type": "display_data"
        }
      ],
      "source": [
        "plt.figure(figsize=(12,10))\n",
        "for i in range(20):\n",
        "    plt.subplot(4, 5, i+1)\n",
        "    print_image(i, X_test)"
      ]
    },
    {
      "cell_type": "code",
      "execution_count": null,
      "metadata": {
        "id": "fzBhVVTa0CK0"
      },
      "outputs": [],
      "source": [
        "# Handle missing values\n",
        "imputer = SimpleImputer(strategy=\"mean\")\n",
        "X_train = imputer.fit_transform(X_train)\n",
        "X_test = imputer.fit_transform(X_test)\n",
        "\n",
        "# standardize the data\n",
        "scaler = StandardScaler()\n",
        "X_train = scaler.fit_transform(X_train)\n",
        "X_test = scaler.fit_transform(X_test)"
      ]
    },
    {
      "cell_type": "code",
      "execution_count": null,
      "metadata": {
        "colab": {
          "base_uri": "https://localhost:8080/"
        },
        "id": "PHrl6fjLRleO",
        "outputId": "1caa929c-27a8-4a01-ed86-7a975b6cdd90"
      },
      "outputs": [
        {
          "data": {
            "text/plain": [
              "RandomForestClassifier(max_depth=15, n_estimators=200)"
            ]
          },
          "execution_count": 58,
          "metadata": {},
          "output_type": "execute_result"
        }
      ],
      "source": [
        "# Train a random forest classifier\n",
        "clf = RandomForestClassifier(n_estimators=200, max_depth=15)\n",
        "clf.fit(X_train,y_train)"
      ]
    },
    {
      "cell_type": "code",
      "execution_count": null,
      "metadata": {
        "colab": {
          "base_uri": "https://localhost:8080/"
        },
        "id": "wTQrVx-oTSlT",
        "outputId": "d864659e-41d4-4ee9-beb6-e02c2e719083"
      },
      "outputs": [
        {
          "name": "stdout",
          "output_type": "stream",
          "text": [
            "Accuracy: 0.7121212121212122\n",
            "Accuracy score =  71.2 %\n",
            "Classification Report\n",
            "                  precision    recall  f1-score   support\n",
            "\n",
            "             ain       0.67      0.33      0.44         6\n",
            "         ain_end       0.83      0.62      0.71         8\n",
            "      ain_middle       0.79      0.50      0.61        22\n",
            "       ain_start       0.69      0.42      0.52        26\n",
            "            alif       0.84      0.96      0.89       185\n",
            "        alif_end       0.88      0.88      0.88       179\n",
            "    alif_maqsora       0.00      0.00      0.00         4\n",
            "         bae_end       0.88      0.88      0.88        16\n",
            "      bae_middle       0.50      0.09      0.15        22\n",
            "       bae_start       0.55      0.84      0.67        44\n",
            "       dad_start       1.00      0.22      0.36         9\n",
            "             dal       0.67      0.85      0.75        26\n",
            "         dal_end       0.67      0.67      0.67        43\n",
            "          fa_end       0.50      0.33      0.40         3\n",
            "       fa_middle       0.67      0.20      0.31        10\n",
            "        fa_start       1.00      0.50      0.67         4\n",
            "    ghain_middle       1.00      0.20      0.33         5\n",
            "       hae_start       0.79      0.38      0.51        50\n",
            "           hamza       0.52      0.63      0.57        46\n",
            "     hhae_middle       0.72      0.89      0.80        37\n",
            "      hhae_start       0.71      0.52      0.60        23\n",
            "            jeem       0.86      0.60      0.71        10\n",
            "      jeem_start       0.92      0.60      0.73        20\n",
            "      kaf_middle       0.73      0.63      0.68        30\n",
            "       kaf_start       0.91      0.59      0.71        17\n",
            "     khae_middle       0.00      0.00      0.00         3\n",
            "      khae_start       0.78      0.47      0.58        15\n",
            "        lam_alif       1.00      0.67      0.80         3\n",
            "         lam_end       0.80      0.57      0.67        14\n",
            "      lam_middle       0.56      0.36      0.43        14\n",
            "       lam_start       0.72      0.91      0.80       111\n",
            "             mim       0.84      0.76      0.80        21\n",
            "      mim_middle       0.63      0.82      0.71        71\n",
            "       mim_start       0.70      0.72      0.71        36\n",
            "            noun       0.70      0.82      0.75        28\n",
            "        noun_end       0.85      0.65      0.74        26\n",
            "     noun_middle       0.58      0.61      0.59        31\n",
            "      noun_start       0.55      0.68      0.61        25\n",
            "      qua_middle       0.86      0.86      0.86         7\n",
            "             rae       0.63      0.78      0.70        40\n",
            "         rae_end       0.82      0.49      0.61        37\n",
            "       sad_start       1.00      0.60      0.75         5\n",
            "            seen       0.79      0.83      0.81        23\n",
            "        seen_end       0.00      0.00      0.00         4\n",
            "     seen_middle       0.49      0.59      0.54        54\n",
            "      seen_start       0.63      0.77      0.69        56\n",
            "    sheen_middle       0.61      0.80      0.69        35\n",
            "     sheen_start       0.80      0.40      0.53        20\n",
            "       ta_middle       0.64      0.76      0.70        21\n",
            "         tae_end       0.80      0.80      0.80         5\n",
            "    tae_marbouta       0.79      0.65      0.71        17\n",
            "tae_marbouta_end       0.67      0.18      0.29        11\n",
            "      tae_middle       0.00      0.00      0.00         5\n",
            "            thae       1.00      0.20      0.33         5\n",
            "             waw       0.79      0.60      0.68        43\n",
            "         waw_end       0.67      0.69      0.68        54\n",
            "         yae_end       0.73      0.90      0.81        42\n",
            "      yae_middle       0.60      0.87      0.71        82\n",
            "       yae_start       1.00      0.18      0.30        28\n",
            "             zae       1.00      0.33      0.50         3\n",
            "         zae_end       1.00      0.12      0.22         8\n",
            "\n",
            "        accuracy                           0.71      1848\n",
            "       macro avg       0.71      0.55      0.58      1848\n",
            "    weighted avg       0.73      0.71      0.69      1848\n",
            "\n",
            "Confusion matrix:\n",
            " [[ 2  1  0 ...  0  0  0]\n",
            " [ 1  5  0 ...  0  0  0]\n",
            " [ 0  0 11 ...  0  0  0]\n",
            " ...\n",
            " [ 0  0  0 ...  5  0  0]\n",
            " [ 0  0  0 ...  0  1  0]\n",
            " [ 0  0  0 ...  0  0  1]]\n"
          ]
        },
        {
          "name": "stderr",
          "output_type": "stream",
          "text": [
            "/usr/local/lib/python3.8/dist-packages/sklearn/metrics/_classification.py:1318: UndefinedMetricWarning: Precision and F-score are ill-defined and being set to 0.0 in labels with no predicted samples. Use `zero_division` parameter to control this behavior.\n",
            "  _warn_prf(average, modifier, msg_start, len(result))\n",
            "/usr/local/lib/python3.8/dist-packages/sklearn/metrics/_classification.py:1318: UndefinedMetricWarning: Precision and F-score are ill-defined and being set to 0.0 in labels with no predicted samples. Use `zero_division` parameter to control this behavior.\n",
            "  _warn_prf(average, modifier, msg_start, len(result))\n",
            "/usr/local/lib/python3.8/dist-packages/sklearn/metrics/_classification.py:1318: UndefinedMetricWarning: Precision and F-score are ill-defined and being set to 0.0 in labels with no predicted samples. Use `zero_division` parameter to control this behavior.\n",
            "  _warn_prf(average, modifier, msg_start, len(result))\n"
          ]
        }
      ],
      "source": [
        "# Evaluate the model on the test set\n",
        "y_pred = clf.predict(X_test)\n",
        "accuracy = accuracy_score(y_test, y_pred)\n",
        "confusion = confusion_matrix(y_test, y_pred)\n",
        "\n",
        "print(\"Accuracy:\", accuracy)\n",
        "print('Accuracy score = ', round(accuracy * 100,1),'%')\n",
        "print (\"Classification Report\")\n",
        "print(classification_report(y_test, y_pred))\n",
        "print(\"Confusion matrix:\\n\", confusion)"
      ]
    },
    {
      "cell_type": "code",
      "execution_count": null,
      "metadata": {
        "colab": {
          "base_uri": "https://localhost:8080/"
        },
        "id": "kHYYj5FcW7BM",
        "outputId": "eb33f076-fcb2-49a9-fa4f-06fbb54e16d9"
      },
      "outputs": [
        {
          "name": "stdout",
          "output_type": "stream",
          "text": [
            "0.6872309915916053\n"
          ]
        }
      ],
      "source": [
        "#Cross validation\n",
        "rf=RandomForestClassifier(n_estimators=200)\n",
        "score = cross_val_score(rf, X_train, y_train)\n",
        "print(np.mean(score))"
      ]
    },
    {
      "cell_type": "code",
      "execution_count": null,
      "metadata": {
        "colab": {
          "base_uri": "https://localhost:8080/"
        },
        "id": "CMlxq1lEt-sE",
        "outputId": "6622606b-2c96-4be7-ec85-88880915c63c"
      },
      "outputs": [
        {
          "data": {
            "text/plain": [
              "0          waw_end\n",
              "1     sheen_middle\n",
              "2      noun_middle\n",
              "3        ta_middle\n",
              "4         alif_end\n",
              "5             alif\n",
              "6     tae_marbouta\n",
              "7      seen_middle\n",
              "8             alif\n",
              "9       seen_start\n",
              "10      khae_start\n",
              "11         yae_end\n",
              "12       lam_start\n",
              "13      yae_middle\n",
              "14        alif_end\n",
              "15      yae_middle\n",
              "16       lam_start\n",
              "17       mim_start\n",
              "18           hamza\n",
              "19      mim_middle\n",
              "Name: Label, dtype: object"
            ]
          },
          "execution_count": 61,
          "metadata": {},
          "output_type": "execute_result"
        }
      ],
      "source": [
        "pred = pd.Series(y_pred,name=\"Label\")\n",
        "pred.head(20)"
      ]
    },
    {
      "cell_type": "code",
      "execution_count": null,
      "metadata": {
        "id": "jcqt-Fkeu63a"
      },
      "outputs": [],
      "source": [
        "#generation d'un csv resultat\n",
        "pred = pd.Series(pred,name=\"Label\")\n",
        "submission = pd.concat([pd.Series(range(1,5001),name = \"ImageId\"),pred],axis = 1)\n",
        "submission.to_csv(\"mnist_rf.csv\",index=False)"
      ]
    },
    {
      "cell_type": "code",
      "execution_count": null,
      "metadata": {
        "id": "yRdjRqbj79wS"
      },
      "outputs": [],
      "source": [
        "#Autre methode\n",
        "from sklearn.tree import DecisionTreeClassifier\n",
        "\n",
        "num_trees = 200\n",
        "clfs = []\n",
        "for i in range(num_trees):\n",
        "  clf = DecisionTreeClassifier(max_depth=15)\n",
        "  clf.fit(X_train, y_train)\n",
        "  clfs.append(clf)"
      ]
    },
    {
      "cell_type": "code",
      "execution_count": null,
      "metadata": {
        "id": "p3fKfm9yNyA0"
      },
      "outputs": [],
      "source": [
        "y_preds = []\n",
        "for clf in clfs:\n",
        "  y_pred = clf.predict(X_test)\n",
        "  y_preds.append(y_pred)"
      ]
    },
    {
      "cell_type": "code",
      "execution_count": null,
      "metadata": {
        "id": "rVQtU4siN1OQ"
      },
      "outputs": [],
      "source": [
        "accuracys = []\n",
        "for y_pred in y_preds:\n",
        "  accuracy = accuracy_score(y_test, y_pred)\n",
        "  print(accuracy)\n",
        "  accuracys.append(accuracy)"
      ]
    },
    {
      "cell_type": "code",
      "execution_count": null,
      "metadata": {
        "id": "OMz94Vn4N4NJ"
      },
      "outputs": [],
      "source": [
        "print(\"Test accuracy:\", np.mean(accuracys))\n",
        "#Test accuracy: 0.5230898268398269"
      ]
    }
  ],
  "metadata": {
    "accelerator": "GPU",
    "colab": {
      "provenance": [],
      "include_colab_link": true
    },
    "gpuClass": "standard",
    "kernelspec": {
      "display_name": "Python 3",
      "name": "python3"
    },
    "language_info": {
      "name": "python"
    }
  },
  "nbformat": 4,
  "nbformat_minor": 0
}